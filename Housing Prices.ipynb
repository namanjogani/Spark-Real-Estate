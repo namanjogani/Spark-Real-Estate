{
 "cells": [
  {
   "cell_type": "code",
   "execution_count": 1,
   "metadata": {},
   "outputs": [],
   "source": [
    "import pandas as pd\n",
    "import numpy as np\n",
    "\n",
    "from pyspark import SparkConf, SparkContext\n",
    "from pyspark.sql import SparkSession, SQLContext\n",
    "\n",
    "from pyspark.sql.types import *\n",
    "import pyspark.sql.functions as F\n",
    "from pyspark.sql.functions import udf, col\n",
    "\n",
    "from pyspark.ml.regression import LinearRegression\n",
    "from pyspark.mllib.evaluation import RegressionMetrics\n",
    "\n",
    "from pyspark.ml.tuning import ParamGridBuilder, CrossValidator, CrossValidatorModel\n",
    "from pyspark.ml.feature import VectorAssembler, StandardScaler\n",
    "from pyspark.ml.evaluation import RegressionEvaluator"
   ]
  },
  {
   "cell_type": "code",
   "execution_count": 2,
   "metadata": {},
   "outputs": [],
   "source": [
    "import seaborn as sns\n",
    "import matplotlib.pyplot as plt"
   ]
  },
  {
   "cell_type": "code",
   "execution_count": 3,
   "metadata": {},
   "outputs": [],
   "source": [
    "\n",
    "spark = SparkSession.builder.master(\"local[2]\").appName(\"Linear-Regression-California-Housing\").getOrCreate()"
   ]
  },
  {
   "cell_type": "code",
   "execution_count": 38,
   "metadata": {},
   "outputs": [],
   "source": [
    "# define the schema, corresponding to a line in the csv data file.\n",
    "schema = StructType([\n",
    "    StructField(\"long\", FloatType(), nullable=True),\n",
    "    StructField(\"lat\", FloatType(), nullable=True),\n",
    "    StructField(\"medage\", FloatType(), nullable=True),\n",
    "    StructField(\"totrooms\", FloatType(), nullable=True),\n",
    "    StructField(\"totbdrms\", FloatType(), nullable=True),\n",
    "    StructField(\"pop\", FloatType(), nullable=True),\n",
    "    StructField(\"houshlds\", FloatType(), nullable=True),\n",
    "    StructField(\"medinc\", FloatType(), nullable=True),\n",
    "    StructField(\"medhv\", FloatType(), nullable=True)]\n",
    ")"
   ]
  },
  {
   "cell_type": "code",
   "execution_count": 39,
   "metadata": {},
   "outputs": [],
   "source": [
    "housing_df = spark.read.csv(\"cal_housing.data\",schema=schema).cache()"
   ]
  },
  {
   "cell_type": "code",
   "execution_count": 40,
   "metadata": {},
   "outputs": [
    {
     "name": "stdout",
     "output_type": "stream",
     "text": [
      "root\n",
      " |-- long: float (nullable = true)\n",
      " |-- lat: float (nullable = true)\n",
      " |-- medage: float (nullable = true)\n",
      " |-- totrooms: float (nullable = true)\n",
      " |-- totbdrms: float (nullable = true)\n",
      " |-- pop: float (nullable = true)\n",
      " |-- houshlds: float (nullable = true)\n",
      " |-- medinc: float (nullable = true)\n",
      " |-- medhv: float (nullable = true)\n",
      "\n"
     ]
    }
   ],
   "source": [
    "housing_df.printSchema()"
   ]
  },
  {
   "cell_type": "code",
   "execution_count": 41,
   "metadata": {},
   "outputs": [],
   "source": [
    "result_df = housing_df.groupBy(\"medage\").count().sort(\"medage\", ascending=False)\n"
   ]
  },
  {
   "cell_type": "code",
   "execution_count": 42,
   "metadata": {},
   "outputs": [
    {
     "name": "stdout",
     "output_type": "stream",
     "text": [
      "+------+-----+\n",
      "|medage|count|\n",
      "+------+-----+\n",
      "|  52.0| 1273|\n",
      "|  51.0|   48|\n",
      "|  50.0|  136|\n",
      "|  49.0|  134|\n",
      "|  48.0|  177|\n",
      "|  47.0|  198|\n",
      "|  46.0|  245|\n",
      "|  45.0|  294|\n",
      "|  44.0|  356|\n",
      "|  43.0|  353|\n",
      "+------+-----+\n",
      "only showing top 10 rows\n",
      "\n"
     ]
    }
   ],
   "source": [
    "result_df.show(10)"
   ]
  },
  {
   "cell_type": "code",
   "execution_count": 43,
   "metadata": {},
   "outputs": [],
   "source": [
    "result_df1 = housing_df.groupBy('medhv').count().sort('medhv')"
   ]
  },
  {
   "cell_type": "code",
   "execution_count": 44,
   "metadata": {},
   "outputs": [
    {
     "name": "stdout",
     "output_type": "stream",
     "text": [
      "+-------+-----+\n",
      "|  medhv|count|\n",
      "+-------+-----+\n",
      "|14999.0|    4|\n",
      "|17500.0|    1|\n",
      "|22500.0|    4|\n",
      "|25000.0|    1|\n",
      "|26600.0|    1|\n",
      "|26900.0|    1|\n",
      "|27500.0|    1|\n",
      "|28300.0|    1|\n",
      "|30000.0|    2|\n",
      "|32500.0|    4|\n",
      "|32900.0|    1|\n",
      "|33200.0|    1|\n",
      "|34200.0|    1|\n",
      "|34400.0|    1|\n",
      "|34600.0|    1|\n",
      "|35000.0|    1|\n",
      "|36600.0|    1|\n",
      "|36700.0|    1|\n",
      "|37500.0|    4|\n",
      "|37900.0|    1|\n",
      "+-------+-----+\n",
      "only showing top 20 rows\n",
      "\n"
     ]
    }
   ],
   "source": [
    "result_df1.show()"
   ]
  },
  {
   "cell_type": "code",
   "execution_count": 45,
   "metadata": {},
   "outputs": [
    {
     "data": {
      "text/plain": [
       "<matplotlib.axes._subplots.AxesSubplot at 0x19a570fda90>"
      ]
     },
     "execution_count": 45,
     "metadata": {},
     "output_type": "execute_result"
    },
    {
     "data": {
      "image/png": "[encoded data removed]",
      "text/plain": [
       "<Figure size 1008x432 with 1 Axes>"
      ]
     },
     "metadata": {
      "needs_background": "light"
     },
     "output_type": "display_data"
    }
   ],
   "source": [
    "result_df.toPandas().plot.bar(x='medage',figsize=(14, 6))\n"
   ]
  },
  {
   "cell_type": "code",
   "execution_count": 46,
   "metadata": {},
   "outputs": [
    {
     "data": {
      "text/plain": [
       "<matplotlib.axes._subplots.AxesSubplot at 0x19a57622860>"
      ]
     },
     "execution_count": 46,
     "metadata": {},
     "output_type": "execute_result"
    },
    {
     "data": {
      "image/png": "[encoded data removed]",
      "text/plain": [
       "<Figure size 432x288 with 1 Axes>"
      ]
     },
     "metadata": {
      "needs_background": "light"
     },
     "output_type": "display_data"
    }
   ],
   "source": [
    "result_df1.toPandas().plot.scatter(x='medhv',y='count')"
   ]
  },
  {
   "cell_type": "code",
   "execution_count": 47,
   "metadata": {},
   "outputs": [],
   "source": [
    "from pyspark import SparkContext\n",
    "from pyspark.mllib.linalg import Vectors, Matrices\n",
    "from pyspark.mllib.regression import LabeledPoint\n",
    "from pyspark.mllib.stat import Statistics"
   ]
  },
  {
   "cell_type": "code",
   "execution_count": null,
   "metadata": {},
   "outputs": [],
   "source": []
  },
  {
   "cell_type": "code",
   "execution_count": null,
   "metadata": {},
   "outputs": [],
   "source": []
  },
  {
   "cell_type": "code",
   "execution_count": 48,
   "metadata": {},
   "outputs": [
    {
     "name": "stdout",
     "output_type": "stream",
     "text": [
      "+-------+---------+-------+-------+---------+--------+---------+--------+-------+-----------+\n",
      "|summary|     long|    lat| medage| totrooms|totbdrms|      pop|houshlds| medinc|      medhv|\n",
      "+-------+---------+-------+-------+---------+--------+---------+--------+-------+-----------+\n",
      "|  count|  20640.0|20640.0|20640.0|  20640.0| 20640.0|  20640.0| 20640.0|20640.0|    20640.0|\n",
      "|   mean|-119.5697|35.6319|28.6395|2635.7631| 537.898|1425.4767|499.5397| 3.8707|206855.8169|\n",
      "| stddev|   2.0035|  2.136|12.5856|2181.6153|421.2479|1132.4621|382.3298| 1.8998|115395.6159|\n",
      "|    min|  -124.35|  32.54|    1.0|      2.0|     1.0|      3.0|     1.0| 0.4999|    14999.0|\n",
      "|    max|  -114.31|  41.95|   52.0|  39320.0|  6445.0|  35682.0|  6082.0|15.0001|   500001.0|\n",
      "+-------+---------+-------+-------+---------+--------+---------+--------+-------+-----------+\n",
      "\n"
     ]
    }
   ],
   "source": [
    "(housing_df.describe().select(\n",
    "                    \"summary\",\n",
    "                    F.round(\"long\", 4).alias(\"long\"),\n",
    "                    F.round(\"lat\", 4).alias(\"lat\"),\n",
    "                    F.round(\"medage\", 4).alias(\"medage\"),\n",
    "                    F.round(\"totrooms\", 4).alias(\"totrooms\"),\n",
    "                    F.round(\"totbdrms\", 4).alias(\"totbdrms\"),\n",
    "                    F.round(\"pop\", 4).alias(\"pop\"),\n",
    "                    F.round(\"houshlds\", 4).alias(\"houshlds\"),\n",
    "                    F.round(\"medinc\", 4).alias(\"medinc\"),\n",
    "                    F.round(\"medhv\", 4).alias(\"medhv\"))\n",
    "                    .show())"
   ]
  },
  {
   "cell_type": "code",
   "execution_count": 49,
   "metadata": {},
   "outputs": [],
   "source": [
    "housing_df = housing_df.withColumn(\"medhv\", col(\"medhv\")/100000)\n"
   ]
  },
  {
   "cell_type": "code",
   "execution_count": 50,
   "metadata": {},
   "outputs": [
    {
     "name": "stdout",
     "output_type": "stream",
     "text": [
      "+-------+-----+------+--------+--------+------+--------+------+-----+\n",
      "|   long|  lat|medage|totrooms|totbdrms|   pop|houshlds|medinc|medhv|\n",
      "+-------+-----+------+--------+--------+------+--------+------+-----+\n",
      "|-122.23|37.88|  41.0|   880.0|   129.0| 322.0|   126.0|8.3252|4.526|\n",
      "|-122.22|37.86|  21.0|  7099.0|  1106.0|2401.0|  1138.0|8.3014|3.585|\n",
      "+-------+-----+------+--------+--------+------+--------+------+-----+\n",
      "only showing top 2 rows\n",
      "\n"
     ]
    }
   ],
   "source": [
    "housing_df.show(2)"
   ]
  },
  {
   "cell_type": "code",
   "execution_count": 51,
   "metadata": {},
   "outputs": [],
   "source": [
    "housing_df = (housing_df.withColumn(\"rmsperhh\", F.round(col(\"totrooms\")/col(\"houshlds\"), 2))\n",
    "                       .withColumn(\"popperhh\", F.round(col(\"pop\")/col(\"houshlds\"), 2))\n",
    "                       .withColumn(\"bdrmsperrm\", F.round(col(\"totbdrms\")/col(\"totrooms\"), 2)))"
   ]
  },
  {
   "cell_type": "code",
   "execution_count": 52,
   "metadata": {},
   "outputs": [
    {
     "name": "stdout",
     "output_type": "stream",
     "text": [
      "+-------+-----+------+--------+--------+------+--------+------+-----+--------+--------+----------+\n",
      "|   long|  lat|medage|totrooms|totbdrms|   pop|houshlds|medinc|medhv|rmsperhh|popperhh|bdrmsperrm|\n",
      "+-------+-----+------+--------+--------+------+--------+------+-----+--------+--------+----------+\n",
      "|-122.23|37.88|  41.0|   880.0|   129.0| 322.0|   126.0|8.3252|4.526|    6.98|    2.56|      0.15|\n",
      "|-122.22|37.86|  21.0|  7099.0|  1106.0|2401.0|  1138.0|8.3014|3.585|    6.24|    2.11|      0.16|\n",
      "|-122.24|37.85|  52.0|  1467.0|   190.0| 496.0|   177.0|7.2574|3.521|    8.29|     2.8|      0.13|\n",
      "|-122.25|37.85|  52.0|  1274.0|   235.0| 558.0|   219.0|5.6431|3.413|    5.82|    2.55|      0.18|\n",
      "|-122.25|37.85|  52.0|  1627.0|   280.0| 565.0|   259.0|3.8462|3.422|    6.28|    2.18|      0.17|\n",
      "+-------+-----+------+--------+--------+------+--------+------+-----+--------+--------+----------+\n",
      "only showing top 5 rows\n",
      "\n"
     ]
    }
   ],
   "source": [
    "housing_df.show(5)"
   ]
  },
  {
   "cell_type": "code",
   "execution_count": null,
   "metadata": {},
   "outputs": [],
   "source": []
  },
  {
   "cell_type": "code",
   "execution_count": 25,
   "metadata": {},
   "outputs": [],
   "source": [
    "# Re-order and select columns\n",
    "housing_df=housing_df.select('long',\n",
    " 'lat',\n",
    " 'medage',\n",
    " 'totrooms',\n",
    " 'totbdrms',\n",
    " 'pop',\n",
    " 'houshlds',\n",
    " 'medinc',\n",
    " 'medhv',\n",
    " 'rmsperhh',\n",
    " 'popperhh',\n",
    " 'bdrmsperrm')"
   ]
  },
  {
   "cell_type": "code",
   "execution_count": 26,
   "metadata": {},
   "outputs": [],
   "source": [
    "featureCols = [\"long\",\"lat\",\"totbdrms\", \"pop\", \"houshlds\", \"medinc\", \"rmsperhh\", \"popperhh\", \"bdrmsperrm\"]\n"
   ]
  },
  {
   "cell_type": "code",
   "execution_count": 27,
   "metadata": {},
   "outputs": [],
   "source": [
    "# put features into a feature vector column\n",
    "assembler = VectorAssembler(inputCols=featureCols, outputCol=\"features\") \n",
    "assembled_df = assembler.transform(housing_df)\n"
   ]
  },
  {
   "cell_type": "code",
   "execution_count": 54,
   "metadata": {},
   "outputs": [],
   "source": [
    "from pyspark.ml.stat import Correlation\n"
   ]
  },
  {
   "cell_type": "code",
   "execution_count": 85,
   "metadata": {},
   "outputs": [
    {
     "data": {
      "text/plain": [
       "['long',\n",
       " 'lat',\n",
       " 'medage',\n",
       " 'totrooms',\n",
       " 'totbdrms',\n",
       " 'pop',\n",
       " 'houshlds',\n",
       " 'medinc',\n",
       " 'medhv',\n",
       " 'rmsperhh',\n",
       " 'popperhh',\n",
       " 'bdrmsperrm']"
      ]
     },
     "execution_count": 85,
     "metadata": {},
     "output_type": "execute_result"
    }
   ],
   "source": [
    "housing_df.columns"
   ]
  },
  {
   "cell_type": "code",
   "execution_count": 59,
   "metadata": {},
   "outputs": [],
   "source": [
    "vector_col = \"corr_features\"\n",
    "assembler = VectorAssembler(inputCols=housing_df.columns, outputCol=vector_col)\n",
    "df_vector = assembler.transform(housing_df).select(vector_col)\n"
   ]
  },
  {
   "cell_type": "code",
   "execution_count": 80,
   "metadata": {},
   "outputs": [],
   "source": [
    "matrix = Correlation.corr(df_vector, vector_col)\n",
    "corr_mat= (matrix.collect()[0][\"pearson({})\".format(vector_col)].values)"
   ]
  },
  {
   "cell_type": "code",
   "execution_count": 81,
   "metadata": {},
   "outputs": [
    {
     "data": {
      "text/plain": [
       "array([ 1.00000000e+00, -9.24664430e-01, -1.08196818e-01,  4.45679828e-02,\n",
       "        6.83775326e-02,  9.97732257e-02,  5.53100950e-02, -1.51758706e-02,\n",
       "       -4.59666287e-02, -2.75312143e-02,  2.47403019e-03,  9.31180617e-02,\n",
       "       -9.24664430e-01,  1.00000000e+00,  1.11726693e-02, -3.60995917e-02,\n",
       "       -6.63183975e-02, -1.08784745e-01, -7.10354311e-02, -7.98091195e-02,\n",
       "       -1.44160271e-01,  1.06379056e-01,  2.36775047e-03, -1.14431858e-01,\n",
       "       -1.08196818e-01,  1.11726693e-02,  1.00000000e+00, -3.61262201e-01,\n",
       "       -3.20484707e-01, -2.96244240e-01, -3.02916009e-01, -1.19033990e-01,\n",
       "        1.05623412e-01, -1.53290969e-01,  1.31966359e-02,  1.35990192e-01,\n",
       "        4.45679828e-02, -3.60995917e-02, -3.61262201e-01,  1.00000000e+00,\n",
       "        9.29893348e-01,  8.57125973e-01,  9.18484493e-01,  1.98049644e-01,\n",
       "        1.34153114e-01,  1.33795841e-01, -2.45841872e-02, -1.87273901e-01,\n",
       "        6.83775326e-02, -6.63183975e-02, -3.20484707e-01,  9.29893348e-01,\n",
       "        1.00000000e+00,  8.78025580e-01,  9.79828961e-01, -8.09325902e-03,\n",
       "        5.05937888e-02,  7.80099613e-04, -2.83340486e-02,  8.59034482e-02,\n",
       "        9.97732257e-02, -1.08784745e-01, -2.96244240e-01,  8.57125973e-01,\n",
       "        8.78025580e-01,  1.00000000e+00,  9.07222266e-01,  4.83434487e-03,\n",
       "       -2.46496789e-02, -7.22164815e-02,  6.98580944e-02,  3.65499951e-02,\n",
       "        5.53100950e-02, -7.10354311e-02, -3.02916009e-01,  9.18484493e-01,\n",
       "        9.79828961e-01,  9.07222266e-01,  1.00000000e+00,  1.30330516e-02,\n",
       "        6.58426506e-02, -8.06053318e-02, -2.73135888e-02,  6.67882190e-02,\n",
       "       -1.51758706e-02, -7.98091195e-02, -1.19033990e-01,  1.98049644e-01,\n",
       "       -8.09325902e-03,  4.83434487e-03,  1.30330516e-02,  1.00000000e+00,\n",
       "        6.88075207e-01,  3.26896036e-01,  1.87665339e-02, -6.14782457e-01,\n",
       "       -4.59666287e-02, -1.44160271e-01,  1.05623412e-01,  1.34153114e-01,\n",
       "        5.05937888e-02, -2.46496789e-02,  6.58426506e-02,  6.88075207e-01,\n",
       "        1.00000000e+00,  1.51950159e-01, -2.37385255e-02, -2.55076424e-01,\n",
       "       -2.75312143e-02,  1.06379056e-01, -1.53290969e-01,  1.33795841e-01,\n",
       "        7.80099613e-04, -7.22164815e-02, -8.06053318e-02,  3.26896036e-01,\n",
       "        1.51950159e-01,  1.00000000e+00, -4.84221640e-03, -4.17768662e-01,\n",
       "        2.47403019e-03,  2.36775047e-03,  1.31966359e-02, -2.45841872e-02,\n",
       "       -2.83340486e-02,  6.98580944e-02, -2.73135888e-02,  1.87665339e-02,\n",
       "       -2.37385255e-02, -4.84221640e-03,  1.00000000e+00,  2.22007523e-03,\n",
       "        9.31180617e-02, -1.14431858e-01,  1.35990192e-01, -1.87273901e-01,\n",
       "        8.59034482e-02,  3.65499951e-02,  6.67882190e-02, -6.14782457e-01,\n",
       "       -2.55076424e-01, -4.17768662e-01,  2.22007523e-03,  1.00000000e+00])"
      ]
     },
     "execution_count": 81,
     "metadata": {},
     "output_type": "execute_result"
    }
   ],
   "source": [
    "corr_mat"
   ]
  },
  {
   "cell_type": "code",
   "execution_count": null,
   "metadata": {},
   "outputs": [],
   "source": []
  },
  {
   "cell_type": "code",
   "execution_count": 55,
   "metadata": {},
   "outputs": [
    {
     "name": "stdout",
     "output_type": "stream",
     "text": [
      "+-------+-----+------+--------+--------+------+--------+------+-----+--------+--------+----------+---------------------------------------------------------------------------------------------+\n",
      "|long   |lat  |medage|totrooms|totbdrms|pop   |houshlds|medinc|medhv|rmsperhh|popperhh|bdrmsperrm|features                                                                                     |\n",
      "+-------+-----+------+--------+--------+------+--------+------+-----+--------+--------+----------+---------------------------------------------------------------------------------------------+\n",
      "|-122.23|37.88|41.0  |880.0   |129.0   |322.0 |126.0   |8.3252|4.526|6.98    |2.56    |0.15      |[-122.2300033569336,37.880001068115234,129.0,322.0,126.0,8.325200080871582,6.98,2.56,0.15]   |\n",
      "|-122.22|37.86|21.0  |7099.0  |1106.0  |2401.0|1138.0  |8.3014|3.585|6.24    |2.11    |0.16      |[-122.22000122070312,37.86000061035156,1106.0,2401.0,1138.0,8.301400184631348,6.24,2.11,0.16]|\n",
      "|-122.24|37.85|52.0  |1467.0  |190.0   |496.0 |177.0   |7.2574|3.521|8.29    |2.8     |0.13      |[-122.23999786376953,37.849998474121094,190.0,496.0,177.0,7.257400035858154,8.29,2.8,0.13]   |\n",
      "|-122.25|37.85|52.0  |1274.0  |235.0   |558.0 |219.0   |5.6431|3.413|5.82    |2.55    |0.18      |[-122.25,37.849998474121094,235.0,558.0,219.0,5.643099784851074,5.82,2.55,0.18]              |\n",
      "|-122.25|37.85|52.0  |1627.0  |280.0   |565.0 |259.0   |3.8462|3.422|6.28    |2.18    |0.17      |[-122.25,37.849998474121094,280.0,565.0,259.0,3.8461999893188477,6.28,2.18,0.17]             |\n",
      "|-122.25|37.85|52.0  |919.0   |213.0   |413.0 |193.0   |4.0368|2.697|4.76    |2.14    |0.23      |[-122.25,37.849998474121094,213.0,413.0,193.0,4.036799907684326,4.76,2.14,0.23]              |\n",
      "|-122.25|37.84|52.0  |2535.0  |489.0   |1094.0|514.0   |3.6591|2.992|4.93    |2.13    |0.19      |[-122.25,37.84000015258789,489.0,1094.0,514.0,3.65910005569458,4.93,2.13,0.19]               |\n",
      "|-122.25|37.84|52.0  |3104.0  |687.0   |1157.0|647.0   |3.12  |2.414|4.8     |1.79    |0.22      |[-122.25,37.84000015258789,687.0,1157.0,647.0,3.119999885559082,4.8,1.79,0.22]               |\n",
      "|-122.26|37.84|42.0  |2555.0  |665.0   |1206.0|595.0   |2.0804|2.267|4.29    |2.03    |0.26      |[-122.26000213623047,37.84000015258789,665.0,1206.0,595.0,2.080399990081787,4.29,2.03,0.26]  |\n",
      "|-122.25|37.84|52.0  |3549.0  |707.0   |1551.0|714.0   |3.6912|2.611|4.97    |2.17    |0.2       |[-122.25,37.84000015258789,707.0,1551.0,714.0,3.691200017929077,4.97,2.17,0.2]               |\n",
      "+-------+-----+------+--------+--------+------+--------+------+-----+--------+--------+----------+---------------------------------------------------------------------------------------------+\n",
      "only showing top 10 rows\n",
      "\n"
     ]
    }
   ],
   "source": [
    "assembled_df.show(10, truncate=False)\n"
   ]
  },
  {
   "cell_type": "code",
   "execution_count": 56,
   "metadata": {},
   "outputs": [],
   "source": [
    "# Initialize the `standardScaler`\n",
    "standardScaler = StandardScaler(inputCol=\"features\", outputCol=\"features_scaled\")\n"
   ]
  },
  {
   "cell_type": "code",
   "execution_count": 57,
   "metadata": {},
   "outputs": [],
   "source": [
    "# Fit the DataFrame to the scaler\n",
    "scaled_df = standardScaler.fit(assembled_df).transform(assembled_df)\n"
   ]
  },
  {
   "cell_type": "code",
   "execution_count": 58,
   "metadata": {
    "scrolled": true
   },
   "outputs": [
    {
     "name": "stdout",
     "output_type": "stream",
     "text": [
      "+---------------------------------------------------------------------------------------------+----------------------------------------------------------------------------------------------------------------------------------------------------------------------------+\n",
      "|features                                                                                     |features_scaled                                                                                                                                                             |\n",
      "+---------------------------------------------------------------------------------------------+----------------------------------------------------------------------------------------------------------------------------------------------------------------------------+\n",
      "|[-122.2300033569336,37.880001068115234,129.0,322.0,126.0,8.325200080871582,6.98,2.56,0.15]   |[-61.00727067992717,17.73447826464273,0.30623297630686513,0.2843362208866199,0.3295584480852433,4.38209543579743,2.8211223886115664,0.24648542140099877,2.5828740130262697] |\n",
      "|[-122.22000122070312,37.86000061035156,1106.0,2401.0,1138.0,8.301400184631348,6.24,2.11,0.16]|[-61.00227842748807,17.725114545701565,2.6255323394991694,2.1201592122632746,2.9764882057222772,4.36956799913841,2.522034914747303,0.20315790592035446,2.755065613894688]   |\n",
      "|[-122.23999786376953,37.849998474121094,190.0,496.0,177.0,7.257400035858154,8.29,2.8,0.13]   |[-61.012259124393395,17.720431793257596,0.451040817816313,0.4379837439744208,0.4629511532626037,3.820042673324032,3.3505880518037077,0.2695934296573424,2.238490811289434]  |\n",
      "|[-122.25,37.849998474121094,235.0,558.0,219.0,5.643099784851074,5.82,2.55,0.18]              |[-61.01725137683249,17.720431793257596,0.557866274667545,0.4927317119712234,0.5728039692910182,2.970331231769803,2.3522825647162344,0.2455225877236511,3.099448815631524]   |\n",
      "|[-122.25,37.849998474121094,280.0,565.0,259.0,3.8461999893188477,6.28,2.18,0.17]             |[-61.01725137683249,17.720431793257596,0.664691731518777,0.4989129341644108,0.6774256988418891,2.024505748166202,2.538201805226452,0.20989774166178804,2.9272572147631064]  |\n",
      "|[-122.25,37.849998474121094,213.0,413.0,193.0,4.036799907684326,4.76,2.14,0.23]              |[-61.01725137683249,17.720431793257596,0.5056404957624983,0.364692109398056,0.5047998450829521,2.124830908428931,1.9238599670187757,0.20604640695239743,3.960406819973614]  |\n",
      "|[-122.25,37.84000015258789,489.0,1094.0,514.0,3.65910005569458,4.93,2.13,0.19]               |[-61.01725137683249,17.715750826760406,1.1608366311167213,0.9660367256210006,1.344389224728691,1.9260228580003875,1.9925692515551605,0.20508357327504975,3.271640416499942] |\n",
      "|[-122.25,37.84000015258789,687.0,1157.0,647.0,3.119999885559082,4.8,1.79,0.22]               |[-61.01725137683249,17.715750826760406,1.6308686412621423,1.021667725359687,1.6922564754853369,1.6422593001231023,1.9400268574979251,0.1723472282452296,3.788215219105196]  |\n",
      "|[-122.26000213623047,37.84000015258789,665.0,1206.0,595.0,2.080399990081787,4.29,2.03,0.26]  |[-61.02224362927159,17.715750826760406,1.5786428623570954,1.0649362807119989,1.5562482270692046,1.0950501144251168,1.7338990038887707,0.19545523650157323,4.476981622578868]|\n",
      "|[-122.25,37.84000015258789,707.0,1551.0,714.0,3.691200017929077,4.97,2.17,0.2]               |[-61.01725137683249,17.715750826760406,1.678346622084912,1.3695822316619488,1.8674978724830456,1.9429191603871925,2.00873614203431,0.20893490798444037,3.44383201736836]    |\n",
      "+---------------------------------------------------------------------------------------------+----------------------------------------------------------------------------------------------------------------------------------------------------------------------------+\n",
      "only showing top 10 rows\n",
      "\n"
     ]
    }
   ],
   "source": [
    "# Inspect the result\n",
    "scaled_df.select(\"features\", \"features_scaled\").show(10, truncate=False)\n"
   ]
  },
  {
   "cell_type": "code",
   "execution_count": 32,
   "metadata": {},
   "outputs": [],
   "source": [
    "# Split the data into train and test sets\n",
    "train_data, test_data = scaled_df.randomSplit([.7,.3])\n"
   ]
  },
  {
   "cell_type": "code",
   "execution_count": 33,
   "metadata": {},
   "outputs": [
    {
     "name": "stdout",
     "output_type": "stream",
     "text": [
      "+-------+-----+------+--------+--------+------+--------+------+-----+--------+--------+----------+--------------------+--------------------+\n",
      "|   long|  lat|medage|totrooms|totbdrms|   pop|houshlds|medinc|medhv|rmsperhh|popperhh|bdrmsperrm|            features|     features_scaled|\n",
      "+-------+-----+------+--------+--------+------+--------+------+-----+--------+--------+----------+--------------------+--------------------+\n",
      "|-124.35|40.54|  52.0|  1820.0|   300.0| 806.0|   270.0|3.0147|0.946|    6.74|    2.99|      0.16|[-124.34999847412...|[-62.065399718643...|\n",
      "| -124.3|41.84|  17.0|  2677.0|   531.0|1244.0|   456.0|3.0313|1.036|    5.87|    2.73|       0.2|[-124.30000305175...|[-62.040446072393...|\n",
      "|-124.27|40.69|  36.0|  2349.0|   528.0|1194.0|   465.0|2.5179| 0.79|    5.05|    2.57|      0.22|[-124.26999664306...|[-62.025469315076...|\n",
      "|-124.26|40.58|  52.0|  2217.0|   394.0| 907.0|   369.0|2.3571|1.114|    6.01|    2.46|      0.18|[-124.26000213623...|[-62.020480870610...|\n",
      "|-124.23|40.81|  52.0|  1112.0|   209.0| 544.0|   172.0|3.3462|0.508|    6.47|    3.16|      0.19|[-124.23000335693...|[-62.005507921265...|\n",
      "|-124.22|41.73|  28.0|  3003.0|   699.0|1530.0|   653.0|1.7038|0.783|     4.6|    2.34|      0.23|[-124.22000122070...|[-62.000515668826...|\n",
      "|-124.21|41.75|  20.0|  3810.0|   787.0|1993.0|   721.0|2.0074|0.669|    5.28|    2.76|      0.21|[-124.20999908447...|[-61.995523416387...|\n",
      "|-124.19|40.78|  37.0|  1371.0|   319.0| 640.0|   260.0|1.8242|  0.7|    5.27|    2.46|      0.23|[-124.19000244140...|[-61.985542719482...|\n",
      "|-124.19|41.78|  15.0|  3140.0|   714.0|1645.0|   640.0|1.6654|0.746|    4.91|    2.57|      0.23|[-124.19000244140...|[-61.985542719482...|\n",
      "|-124.18|40.62|  35.0|   952.0|   178.0| 480.0|   179.0|3.0536| 1.07|    5.32|    2.68|      0.19|[-124.18000030517...|[-61.980550467043...|\n",
      "|-124.18|40.78|  34.0|  1592.0|   364.0| 950.0|   317.0|2.1607| 0.67|    5.02|     3.0|      0.23|[-124.18000030517...|[-61.980550467043...|\n",
      "|-124.18|40.78|  37.0|  1453.0|   293.0| 867.0|   310.0|2.5536|0.702|    4.69|     2.8|       0.2|[-124.18000030517...|[-61.980550467043...|\n",
      "|-124.18|40.79|  39.0|  1836.0|   352.0| 883.0|   337.0| 1.745|0.705|    5.45|    2.62|      0.19|[-124.18000030517...|[-61.980550467043...|\n",
      "|-124.18|40.79|  40.0|  1398.0|   311.0| 788.0|   279.0|1.4668|0.646|    5.01|    2.82|      0.22|[-124.18000030517...|[-61.980550467043...|\n",
      "|-124.17|40.62|  32.0|  1595.0|   309.0| 706.0|   277.0|2.8958|0.864|    5.76|    2.55|      0.19|[-124.16999816894...|[-61.975558214604...|\n",
      "|-124.17|40.74|  17.0|  2026.0|   338.0| 873.0|   313.0|4.0357|1.289|    6.47|    2.79|      0.17|[-124.16999816894...|[-61.975558214604...|\n",
      "|-124.17|40.75|  13.0|  2171.0|   339.0| 951.0|   353.0|4.8516|1.161|    6.15|    2.69|      0.16|[-124.16999816894...|[-61.975558214604...|\n",
      "|-124.17|40.77|  30.0|  1895.0|   366.0| 990.0|   359.0|2.2227|0.813|    5.28|    2.76|      0.19|[-124.16999816894...|[-61.975558214604...|\n",
      "|-124.17|40.79|  43.0|  2285.0|   479.0|1169.0|   482.0|1.9688|0.705|    4.74|    2.43|      0.21|[-124.16999816894...|[-61.975558214604...|\n",
      "|-124.17| 40.8|  52.0|   661.0|   316.0| 392.0|   244.0| 0.957|  0.6|    2.71|    1.61|      0.48|[-124.16999816894...|[-61.975558214604...|\n",
      "+-------+-----+------+--------+--------+------+--------+------+-----+--------+--------+----------+--------------------+--------------------+\n",
      "only showing top 20 rows\n",
      "\n"
     ]
    }
   ],
   "source": [
    "train_data.show()"
   ]
  },
  {
   "cell_type": "code",
   "execution_count": 34,
   "metadata": {},
   "outputs": [
    {
     "data": {
      "text/plain": [
       "['long',\n",
       " 'lat',\n",
       " 'medage',\n",
       " 'totrooms',\n",
       " 'totbdrms',\n",
       " 'pop',\n",
       " 'houshlds',\n",
       " 'medinc',\n",
       " 'medhv',\n",
       " 'rmsperhh',\n",
       " 'popperhh',\n",
       " 'bdrmsperrm',\n",
       " 'features',\n",
       " 'features_scaled']"
      ]
     },
     "execution_count": 34,
     "metadata": {},
     "output_type": "execute_result"
    }
   ],
   "source": [
    "train_data.columns"
   ]
  },
  {
   "cell_type": "markdown",
   "metadata": {},
   "source": [
    "# LINEAR REGRESSION WITH K-FOLD CROSS VALIDATION AND HYPERPARAMETER TUNING"
   ]
  },
  {
   "cell_type": "code",
   "execution_count": 212,
   "metadata": {},
   "outputs": [],
   "source": [
    "# Initialize `lr`\n",
    "lr = (LinearRegression(featuresCol='features_scaled', labelCol=\"medhv\", predictionCol='predmedhv'))"
   ]
  },
  {
   "cell_type": "code",
   "execution_count": 213,
   "metadata": {},
   "outputs": [],
   "source": [
    "from pyspark.ml.tuning import ParamGridBuilder, CrossValidator\n",
    "from pyspark.ml.evaluation import RegressionEvaluator\n"
   ]
  },
  {
   "cell_type": "code",
   "execution_count": 214,
   "metadata": {},
   "outputs": [],
   "source": [
    "#Wtihout elastic net parameter - 1.44s\n",
    "#Without regParam - 1.42se\n",
    "#Without elastic net parameter and regParam - 20s"
   ]
  },
  {
   "cell_type": "code",
   "execution_count": 230,
   "metadata": {},
   "outputs": [],
   "source": [
    "lrparamGrid = (ParamGridBuilder()\n",
    "               .addGrid(lr.elasticNetParam, [0.0, 0.25, 0.5, 0.75, 1.0])\n",
    "               .addGrid(lr.regParam, [0.001, 0.01, 0.1, 0.5, 1.0, 2.0])\n",
    "               .addGrid(lr.maxIter, [1,5,10,15])\n",
    "               .build())"
   ]
  },
  {
   "cell_type": "code",
   "execution_count": 232,
   "metadata": {},
   "outputs": [],
   "source": [
    "lrcv = CrossValidator(estimator = lr,\n",
    "                     estimatorParamMaps= lrparamGrid,\n",
    "                     evaluator=lrevaluator,\n",
    "                     numFolds =5)"
   ]
  },
  {
   "cell_type": "code",
   "execution_count": null,
   "metadata": {},
   "outputs": [],
   "source": [
    "lrevaluator = RegressionEvaluator(predictionCol= 'predmedhv',labelCol='medhv',metricName='rmse')\n",
    "lr_mae_evaluator = RegressionEvaluator(predictionCol= 'predmedhv',labelCol='medhv',metricName='mae')\n",
    "lr_r2_evaluator= RegressionEvaluator(predictionCol= 'predmedhv',labelCol='medhv',metricName='r2')"
   ]
  },
  {
   "cell_type": "code",
   "execution_count": 234,
   "metadata": {},
   "outputs": [],
   "source": [
    "lrcvModel = lrcv.fit(train_data)"
   ]
  },
  {
   "cell_type": "code",
   "execution_count": 56,
   "metadata": {},
   "outputs": [],
   "source": [
    "lrcvSummary = lrcvModel.bestModel.summary"
   ]
  },
  {
   "cell_type": "markdown",
   "metadata": {},
   "source": [
    "# METRIC SUMMARY OF TRAINING DATA"
   ]
  },
  {
   "cell_type": "code",
   "execution_count": 57,
   "metadata": {},
   "outputs": [
    {
     "data": {
      "text/plain": [
       "0.502074118005828"
      ]
     },
     "execution_count": 57,
     "metadata": {},
     "output_type": "execute_result"
    }
   ],
   "source": [
    "lrcvSummary.meanAbsoluteError"
   ]
  },
  {
   "cell_type": "code",
   "execution_count": 58,
   "metadata": {},
   "outputs": [
    {
     "data": {
      "text/plain": [
       "0.4796993527277223"
      ]
     },
     "execution_count": 58,
     "metadata": {},
     "output_type": "execute_result"
    }
   ],
   "source": [
    "lrcvSummary.meanSquaredError"
   ]
  },
  {
   "cell_type": "code",
   "execution_count": 59,
   "metadata": {},
   "outputs": [
    {
     "data": {
      "text/plain": [
       "0.6398453664657111"
      ]
     },
     "execution_count": 59,
     "metadata": {},
     "output_type": "execute_result"
    }
   ],
   "source": [
    "lrcvSummary.r2"
   ]
  },
  {
   "cell_type": "markdown",
   "metadata": {},
   "source": [
    "# METRIC SUMMARY OF TEST DATA"
   ]
  },
  {
   "cell_type": "code",
   "execution_count": 239,
   "metadata": {},
   "outputs": [],
   "source": [
    "lr_pred = lrcvModel.transform(test_data)"
   ]
  },
  {
   "cell_type": "code",
   "execution_count": 240,
   "metadata": {},
   "outputs": [
    {
     "name": "stdout",
     "output_type": "stream",
     "text": [
      "RMSE: 0.7044930073562199\n"
     ]
    }
   ],
   "source": [
    "print('RMSE:', lrevaluator.evaluate(lr_pred))"
   ]
  },
  {
   "cell_type": "code",
   "execution_count": 241,
   "metadata": {},
   "outputs": [
    {
     "name": "stdout",
     "output_type": "stream",
     "text": [
      "MAE: 0.5040565082521727\n"
     ]
    }
   ],
   "source": [
    "print('MAE:', lr_mae_evaluator.evaluate(lr_pred))"
   ]
  },
  {
   "cell_type": "code",
   "execution_count": 242,
   "metadata": {},
   "outputs": [
    {
     "name": "stdout",
     "output_type": "stream",
     "text": [
      "R2: 0.6288841922552169\n"
     ]
    }
   ],
   "source": [
    "print('R2:', lr_r2_evaluator.evaluate(lr_pred))"
   ]
  },
  {
   "cell_type": "markdown",
   "metadata": {},
   "source": [
    "# LINEAR REGRESSION WITHOUT CROSS VALIDATION AND PARAMETER TUNING"
   ]
  },
  {
   "cell_type": "code",
   "execution_count": 104,
   "metadata": {},
   "outputs": [],
   "source": [
    "# Fit the data to the model\n",
    "linearModel = lr.fit(train_data)"
   ]
  },
  {
   "cell_type": "code",
   "execution_count": 105,
   "metadata": {},
   "outputs": [],
   "source": [
    "predictions = linearModel.transform(test_data)"
   ]
  },
  {
   "cell_type": "code",
   "execution_count": 106,
   "metadata": {},
   "outputs": [],
   "source": [
    "predandlabels = predictions.select(\"predmedhv\", \"medhv\")"
   ]
  },
  {
   "cell_type": "code",
   "execution_count": 107,
   "metadata": {},
   "outputs": [
    {
     "name": "stdout",
     "output_type": "stream",
     "text": [
      "RMSE: 0.7045908094391682\n"
     ]
    }
   ],
   "source": [
    "evaluator = RegressionEvaluator(predictionCol=\"predmedhv\", labelCol='medhv', metricName='rmse')\n",
    "print(\"RMSE: {0}\".format(evaluator.evaluate(predandlabels)))\n"
   ]
  },
  {
   "cell_type": "code",
   "execution_count": 108,
   "metadata": {},
   "outputs": [
    {
     "name": "stdout",
     "output_type": "stream",
     "text": [
      "MAE: 0.5041169237140135\n"
     ]
    }
   ],
   "source": [
    "evaluator = RegressionEvaluator(predictionCol=\"predmedhv\", labelCol='medhv', metricName='mae')\n",
    "print(\"MAE: {0}\".format(evaluator.evaluate(predandlabels)))"
   ]
  },
  {
   "cell_type": "code",
   "execution_count": 109,
   "metadata": {},
   "outputs": [
    {
     "name": "stdout",
     "output_type": "stream",
     "text": [
      "R2: 0.6287811439125246\n"
     ]
    }
   ],
   "source": [
    "evaluator = RegressionEvaluator(predictionCol=\"predmedhv\", labelCol='medhv', metricName='r2')\n",
    "print(\"R2: {0}\".format(evaluator.evaluate(predandlabels)))"
   ]
  },
  {
   "cell_type": "markdown",
   "metadata": {},
   "source": [
    "# DECISION TREE REGRESSION WITHOUT CROSS VALIDATION AND PARAMETER TUNING"
   ]
  },
  {
   "cell_type": "code",
   "execution_count": 110,
   "metadata": {},
   "outputs": [],
   "source": [
    "from pyspark.ml.regression import DecisionTreeRegressor\n"
   ]
  },
  {
   "cell_type": "code",
   "execution_count": 111,
   "metadata": {},
   "outputs": [],
   "source": [
    "dt = DecisionTreeRegressor(featuresCol ='features_scaled', labelCol = 'medhv')"
   ]
  },
  {
   "cell_type": "code",
   "execution_count": 121,
   "metadata": {},
   "outputs": [
    {
     "name": "stdout",
     "output_type": "stream",
     "text": [
      "Wall time: 735 ms\n"
     ]
    }
   ],
   "source": [
    "%%time\n",
    "dt_model = dt.fit(train_data)"
   ]
  },
  {
   "cell_type": "code",
   "execution_count": 115,
   "metadata": {},
   "outputs": [],
   "source": [
    "dt_predictions = dt_model.transform(test_data)"
   ]
  },
  {
   "cell_type": "code",
   "execution_count": 116,
   "metadata": {},
   "outputs": [],
   "source": [
    "new_predlab= dt_predictions.select(\"prediction\",\"medhv\")"
   ]
  },
  {
   "cell_type": "code",
   "execution_count": 117,
   "metadata": {},
   "outputs": [],
   "source": [
    "dt_evaluator = RegressionEvaluator(predictionCol=\"prediction\",labelCol='medhv',metricName='r2')"
   ]
  },
  {
   "cell_type": "code",
   "execution_count": 118,
   "metadata": {},
   "outputs": [
    {
     "name": "stdout",
     "output_type": "stream",
     "text": [
      "R2: 0.6124246929032348\n"
     ]
    }
   ],
   "source": [
    "print(\"R2: {0}\".format(dt_evaluator.evaluate(new_predlab)))"
   ]
  },
  {
   "cell_type": "code",
   "execution_count": 119,
   "metadata": {},
   "outputs": [
    {
     "name": "stdout",
     "output_type": "stream",
     "text": [
      "MAE: 0.524869174620771\n"
     ]
    }
   ],
   "source": [
    "dt_ma_ev = RegressionEvaluator(predictionCol=\"prediction\", labelCol='medhv', metricName='mae')\n",
    "print(\"MAE: {0}\".format(dt_ma_ev.evaluate(new_predlab)))"
   ]
  },
  {
   "cell_type": "code",
   "execution_count": 120,
   "metadata": {},
   "outputs": [
    {
     "name": "stdout",
     "output_type": "stream",
     "text": [
      "RMSE: 0.7199461437984649\n"
     ]
    }
   ],
   "source": [
    "dt_ms_ev = RegressionEvaluator(predictionCol=\"prediction\", labelCol='medhv', metricName='rmse')\n",
    "print(\"RMSE: {0}\".format(dt_ms_ev.evaluate(new_predlab)))\n"
   ]
  },
  {
   "cell_type": "markdown",
   "metadata": {},
   "source": [
    "# DECISION TREE WITH CROSS VALIDATION AND PARAMETER TUNING"
   ]
  },
  {
   "cell_type": "code",
   "execution_count": 243,
   "metadata": {},
   "outputs": [],
   "source": [
    "dtparamGrid = (ParamGridBuilder()\n",
    "             .addGrid(dt.maxDepth, [2, 5, 10, 20, 30])\n",
    "             #.addGrid(dt.maxDepth, [2, 5, 10])\n",
    "             .addGrid(dt.maxBins, [10, 20, 40, 80, 100])\n",
    "             #.addGrid(dt.maxBins, [10, 20])\n",
    "             .build())\n"
   ]
  },
  {
   "cell_type": "code",
   "execution_count": 244,
   "metadata": {},
   "outputs": [],
   "source": [
    "#Wihtout MaxBins- 2.14 minutes-- r2-0.69,mae-0.529,rmse-0.728\n",
    "#Without MaxDepth--41 seconds--r2--0.603,mae--0.5293,rmse--0.72\n",
    "#Combination of both of them--r2-0.70,mae-0.42,rmse-0.63\n",
    "#BINS-- number of bins used for splitting\n",
    "#DEPTH-- How many leaf node and internal node are implemented"
   ]
  },
  {
   "cell_type": "code",
   "execution_count": 245,
   "metadata": {},
   "outputs": [],
   "source": [
    "dtevaluator = RegressionEvaluator(predictionCol=\"prediction\", labelCol=\"medhv\",metricName=\"rmse\")\n",
    "dt_mae_evaluator = RegressionEvaluator(predictionCol=\"prediction\", labelCol=\"medhv\", metricName=\"mae\")\n",
    "dt_r2_evaluator = RegressionEvaluator(predictionCol=\"prediction\", labelCol=\"medhv\", metricName=\"r2\")\n"
   ]
  },
  {
   "cell_type": "code",
   "execution_count": 246,
   "metadata": {},
   "outputs": [],
   "source": [
    "dtcv = CrossValidator(estimator = dt,\n",
    "                      estimatorParamMaps = dtparamGrid,\n",
    "                      evaluator = dtevaluator,\n",
    "                      numFolds = 5)"
   ]
  },
  {
   "cell_type": "code",
   "execution_count": 247,
   "metadata": {},
   "outputs": [
    {
     "name": "stdout",
     "output_type": "stream",
     "text": [
      "Wall time: 11min 53s\n"
     ]
    }
   ],
   "source": [
    "dtcvModel = dtcv.fit(train_data)"
   ]
  },
  {
   "cell_type": "code",
   "execution_count": 47,
   "metadata": {},
   "outputs": [],
   "source": [
    "dtpredictions = dtcvModel.transform(test_data)"
   ]
  },
  {
   "cell_type": "markdown",
   "metadata": {},
   "source": [
    "# DECISION TREE METRICS OF TEST DATA"
   ]
  },
  {
   "cell_type": "code",
   "execution_count": 48,
   "metadata": {},
   "outputs": [
    {
     "name": "stdout",
     "output_type": "stream",
     "text": [
      "R2: 0.6948624308016813\n"
     ]
    }
   ],
   "source": [
    "print(\"R2: {0}\".format(dt_r2_evaluator.evaluate(dtpredictions)))"
   ]
  },
  {
   "cell_type": "code",
   "execution_count": 40,
   "metadata": {},
   "outputs": [
    {
     "name": "stdout",
     "output_type": "stream",
     "text": [
      "MAE: 0.5293432024976972\n"
     ]
    }
   ],
   "source": [
    "print(\"MAE: {0}\".format(dt_mae_evaluator.evaluate(dtpredictions)))"
   ]
  },
  {
   "cell_type": "code",
   "execution_count": 41,
   "metadata": {},
   "outputs": [
    {
     "name": "stdout",
     "output_type": "stream",
     "text": [
      "RMSE: 0.7285256081917704\n"
     ]
    }
   ],
   "source": [
    "print(\"RMSE: {0}\".format(dtevaluator.evaluate(dtpredictions)))\n"
   ]
  },
  {
   "cell_type": "markdown",
   "metadata": {},
   "source": [
    "# GRADIENT BOOSTED TREE REGRESSION WITHOUT CROSS VALIDATION AND PARAMETER TUNING"
   ]
  },
  {
   "cell_type": "code",
   "execution_count": 248,
   "metadata": {},
   "outputs": [],
   "source": [
    "from pyspark.ml.regression import GBTRegressor\n",
    "gbt = GBTRegressor(featuresCol = 'features_scaled', labelCol = 'medhv')"
   ]
  },
  {
   "cell_type": "code",
   "execution_count": 132,
   "metadata": {},
   "outputs": [
    {
     "name": "stdout",
     "output_type": "stream",
     "text": [
      "Wall time: 7.73 s\n"
     ]
    }
   ],
   "source": [
    "gbt_model = gbt.fit(train_data)"
   ]
  },
  {
   "cell_type": "code",
   "execution_count": 124,
   "metadata": {},
   "outputs": [],
   "source": [
    "gbt_predictions = gbt_model.transform(test_data)"
   ]
  },
  {
   "cell_type": "code",
   "execution_count": 125,
   "metadata": {},
   "outputs": [],
   "source": [
    "new_gbt = gbt_predictions.select('prediction','medhv')"
   ]
  },
  {
   "cell_type": "code",
   "execution_count": 126,
   "metadata": {},
   "outputs": [],
   "source": [
    "gbt_evaluator_r2 = RegressionEvaluator(labelCol = \"medhv\",predictionCol=\"prediction\",metricName='r2')"
   ]
  },
  {
   "cell_type": "code",
   "execution_count": 127,
   "metadata": {},
   "outputs": [
    {
     "name": "stdout",
     "output_type": "stream",
     "text": [
      "R2: 0.7523300960077743\n"
     ]
    }
   ],
   "source": [
    "print(\"R2: {0}\".format(gbt_evaluator_r2.evaluate(gbt_predictions)))"
   ]
  },
  {
   "cell_type": "code",
   "execution_count": 128,
   "metadata": {},
   "outputs": [],
   "source": [
    "gbt_eval_ma = RegressionEvaluator(predictionCol=\"prediction\", labelCol='medhv', metricName='mae')"
   ]
  },
  {
   "cell_type": "code",
   "execution_count": 129,
   "metadata": {},
   "outputs": [
    {
     "name": "stdout",
     "output_type": "stream",
     "text": [
      "MAE: 0.393843129177601\n"
     ]
    }
   ],
   "source": [
    "print(\"MAE: {0}\".format(gbt_eval_ma.evaluate(gbt_predictions)))"
   ]
  },
  {
   "cell_type": "code",
   "execution_count": 130,
   "metadata": {},
   "outputs": [],
   "source": [
    "gbt_eval = RegressionEvaluator(predictionCol=\"prediction\", labelCol='medhv')\n"
   ]
  },
  {
   "cell_type": "code",
   "execution_count": 131,
   "metadata": {},
   "outputs": [
    {
     "name": "stdout",
     "output_type": "stream",
     "text": [
      "RMSE: 0.5755175581973053\n"
     ]
    }
   ],
   "source": [
    "print(\"RMSE: {0}\".format(gbt_eval.evaluate(gbt_predictions)))\n"
   ]
  },
  {
   "cell_type": "markdown",
   "metadata": {},
   "source": [
    "# GRADIENT BOOSTED TREE REGRESSION WITH CROSS VALIDATION AND PARAMETER TUNING"
   ]
  },
  {
   "cell_type": "code",
   "execution_count": 249,
   "metadata": {},
   "outputs": [],
   "source": [
    "gbt_eval_ma = RegressionEvaluator(predictionCol=\"prediction\", labelCol='medhv', metricName='mae')\n",
    "gbt_evaluator_r2 = RegressionEvaluator(labelCol = \"medhv\",predictionCol=\"prediction\",metricName='r2')\n",
    "gbt_eval = RegressionEvaluator(predictionCol=\"prediction\", labelCol='medhv')\n"
   ]
  },
  {
   "cell_type": "code",
   "execution_count": 250,
   "metadata": {},
   "outputs": [],
   "source": [
    "gbparamGrid = (ParamGridBuilder()\n",
    "             #.addGrid(rf.maxDepth, [2, 5, 10, 20, 30])\n",
    "               .addGrid(gbt.maxDepth, [2, 5, 10])\n",
    "               .addGrid(rf.maxBins, [10, 20, 40])\n",
    "             .build())"
   ]
  },
  {
   "cell_type": "code",
   "execution_count": 251,
   "metadata": {},
   "outputs": [],
   "source": [
    "gbcv = CrossValidator(estimator = gbt,\n",
    "                      estimatorParamMaps = gbparamGrid,\n",
    "                      evaluator = gbt_eval,\n",
    "                      numFolds = 5)\n"
   ]
  },
  {
   "cell_type": "code",
   "execution_count": 252,
   "metadata": {},
   "outputs": [
    {
     "name": "stdout",
     "output_type": "stream",
     "text": [
      "Wall time: 19h 3min 48s\n"
     ]
    }
   ],
   "source": [
    "%%time\n",
    "gbcv_model = gbcv.fit(train_data)"
   ]
  },
  {
   "cell_type": "code",
   "execution_count": 172,
   "metadata": {},
   "outputs": [],
   "source": [
    "gbcv_predictions = gbcv_model.transform(test_data)"
   ]
  },
  {
   "cell_type": "code",
   "execution_count": 173,
   "metadata": {},
   "outputs": [
    {
     "name": "stdout",
     "output_type": "stream",
     "text": [
      "R2: 0.7523300960077743\n"
     ]
    }
   ],
   "source": [
    "print(\"R2: {0}\".format(gbt_evaluator_r2.evaluate(gbcv_predictions)))"
   ]
  },
  {
   "cell_type": "code",
   "execution_count": 174,
   "metadata": {},
   "outputs": [
    {
     "name": "stdout",
     "output_type": "stream",
     "text": [
      "RMSE: 0.5755175581973053\n"
     ]
    }
   ],
   "source": [
    "print(\"RMSE: {0}\".format(gbt_eval.evaluate(gbcv_predictions)))\n"
   ]
  },
  {
   "cell_type": "code",
   "execution_count": 175,
   "metadata": {},
   "outputs": [
    {
     "name": "stdout",
     "output_type": "stream",
     "text": [
      "MAE: 0.393843129177601\n"
     ]
    }
   ],
   "source": [
    "print(\"MAE: {0}\".format(gbt_eval_ma.evaluate(gbcv_predictions)))"
   ]
  },
  {
   "cell_type": "markdown",
   "metadata": {},
   "source": [
    "# RANDOM FOREST REGRESSION WITHOUT CROSS VALIDATION AND PARAMETER TUNING"
   ]
  },
  {
   "cell_type": "code",
   "execution_count": 133,
   "metadata": {},
   "outputs": [],
   "source": [
    "from pyspark.ml.regression import RandomForestRegressor\n",
    "rf = RandomForestRegressor(featuresCol = 'features_scaled', labelCol = 'medhv')"
   ]
  },
  {
   "cell_type": "code",
   "execution_count": 143,
   "metadata": {},
   "outputs": [
    {
     "name": "stdout",
     "output_type": "stream",
     "text": [
      "Wall time: 1.05 s\n"
     ]
    }
   ],
   "source": [
    "rf_model = rf.fit(train_data)"
   ]
  },
  {
   "cell_type": "code",
   "execution_count": 135,
   "metadata": {},
   "outputs": [],
   "source": [
    "rf_predictions = rf_model.transform(test_data)"
   ]
  },
  {
   "cell_type": "code",
   "execution_count": 136,
   "metadata": {},
   "outputs": [],
   "source": [
    "rf_dataset = rf_predictions.select('prediction','medhv')"
   ]
  },
  {
   "cell_type": "code",
   "execution_count": 137,
   "metadata": {},
   "outputs": [],
   "source": [
    "rf_evaluator = RegressionEvaluator(labelCol = \"medhv\",predictionCol=\"prediction\",metricName='r2')"
   ]
  },
  {
   "cell_type": "code",
   "execution_count": 138,
   "metadata": {},
   "outputs": [
    {
     "name": "stdout",
     "output_type": "stream",
     "text": [
      "R2: 0.6275681903386595\n"
     ]
    }
   ],
   "source": [
    "print(\"R2: {0}\".format(rf_evaluator.evaluate(rf_dataset)))"
   ]
  },
  {
   "cell_type": "code",
   "execution_count": 139,
   "metadata": {},
   "outputs": [],
   "source": [
    "ef_eval_ma = RegressionEvaluator(predictionCol=\"prediction\", labelCol='medhv', metricName='mae')"
   ]
  },
  {
   "cell_type": "code",
   "execution_count": 140,
   "metadata": {},
   "outputs": [
    {
     "name": "stdout",
     "output_type": "stream",
     "text": [
      "MAE: 0.5266951829568756\n"
     ]
    }
   ],
   "source": [
    "print(\"MAE: {0}\".format(ef_eval_ma.evaluate(rf_dataset)))"
   ]
  },
  {
   "cell_type": "code",
   "execution_count": 141,
   "metadata": {},
   "outputs": [],
   "source": [
    "rf_eval_ms = RegressionEvaluator(predictionCol=\"prediction\", labelCol='medhv', metricName='rmse')"
   ]
  },
  {
   "cell_type": "code",
   "execution_count": 142,
   "metadata": {},
   "outputs": [
    {
     "name": "stdout",
     "output_type": "stream",
     "text": [
      "RMSE: 0.7057409920554986\n"
     ]
    }
   ],
   "source": [
    "print(\"RMSE: {0}\".format(rf_eval_ms.evaluate(rf_dataset)))\n"
   ]
  },
  {
   "cell_type": "markdown",
   "metadata": {},
   "source": [
    "# RANDOM FOREST REGRESSION WITH CROSS VALIDATION"
   ]
  },
  {
   "cell_type": "code",
   "execution_count": 176,
   "metadata": {},
   "outputs": [],
   "source": [
    "rfevaluator = RegressionEvaluator(predictionCol=\"prediction\", labelCol=\"medhv\", metricName=\"rmse\")\n",
    "rf_mae_evaluator = RegressionEvaluator(predictionCol=\"prediction\", labelCol=\"medhv\", metricName=\"mae\")\n",
    "rf_r2_evaluator = RegressionEvaluator(predictionCol=\"prediction\", labelCol=\"medhv\", metricName=\"r2\")\n"
   ]
  },
  {
   "cell_type": "code",
   "execution_count": 184,
   "metadata": {},
   "outputs": [],
   "source": [
    "rfparamGrid = (ParamGridBuilder()\n",
    "             #.addGrid(rf.maxDepth, [2, 5, 10, 20, 30])\n",
    "               .addGrid(rf.maxDepth, [2, 5, 10])\n",
    "             #.addGrid(rf.maxBins, [10, 20, 40, 80, 100])\n",
    "               .addGrid(rf.maxBins, [5, 10, 20])\n",
    "             #.addGrid(rf.numTrees, [5, 20, 50, 100, 500])\n",
    "               #.addGrid(rf.numTrees, [5, 20, 50])\n",
    "             .build())"
   ]
  },
  {
   "cell_type": "code",
   "execution_count": 185,
   "metadata": {},
   "outputs": [],
   "source": [
    "rfcv = CrossValidator(estimator = rf,\n",
    "                      estimatorParamMaps = rfparamGrid,\n",
    "                      evaluator = rfevaluator,\n",
    "                      numFolds = 5)\n"
   ]
  },
  {
   "cell_type": "code",
   "execution_count": 191,
   "metadata": {},
   "outputs": [
    {
     "name": "stdout",
     "output_type": "stream",
     "text": [
      "Wall time: 2min 22s\n"
     ]
    }
   ],
   "source": [
    "%%time\n",
    "rfcv_model = rfcv.fit(train_data)"
   ]
  },
  {
   "cell_type": "code",
   "execution_count": 187,
   "metadata": {},
   "outputs": [],
   "source": [
    "rfcvpredictions = rfcv_model.transform(test_data)"
   ]
  },
  {
   "cell_type": "code",
   "execution_count": 188,
   "metadata": {},
   "outputs": [
    {
     "name": "stdout",
     "output_type": "stream",
     "text": [
      "R2: 0.7440082345380256\n"
     ]
    }
   ],
   "source": [
    "print(\"R2: {0}\".format(rf_r2_evaluator.evaluate(rfcvpredictions)))"
   ]
  },
  {
   "cell_type": "code",
   "execution_count": 189,
   "metadata": {},
   "outputs": [
    {
     "name": "stdout",
     "output_type": "stream",
     "text": [
      "MAE: 0.4123336729817173\n"
     ]
    }
   ],
   "source": [
    "print(\"MAE: {0}\".format(rf_mae_evaluator.evaluate(rfcvpredictions)))"
   ]
  },
  {
   "cell_type": "code",
   "execution_count": 190,
   "metadata": {},
   "outputs": [
    {
     "name": "stdout",
     "output_type": "stream",
     "text": [
      "RMSE: 0.5851065470915312\n"
     ]
    }
   ],
   "source": [
    "print(\"RMSE: {0}\".format(rfevaluator.evaluate(rfcvpredictions)))\n"
   ]
  },
  {
   "cell_type": "code",
   "execution_count": null,
   "metadata": {},
   "outputs": [],
   "source": []
  }
 ],
 "metadata": {
  "kernelspec": {
   "display_name": "Python 3",
   "language": "python",
   "name": "python3"
  },
  "language_info": {
   "codemirror_mode": {
    "name": "ipython",
    "version": 3
   },
   "file_extension": ".py",
   "mimetype": "text/x-python",
   "name": "python",
   "nbconvert_exporter": "python",
   "pygments_lexer": "ipython3",
   "version": "3.7.3"
  }
 },
 "nbformat": 4,
 "nbformat_minor": 2
}
